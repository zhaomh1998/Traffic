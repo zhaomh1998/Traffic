{
 "cells": [
  {
   "cell_type": "markdown",
   "metadata": {},
   "source": [
    "## Zhanqian"
   ]
  },
  {
   "cell_type": "code",
   "execution_count": 63,
   "metadata": {},
   "outputs": [],
   "source": [
    "import pandas as pd\n",
    "import os\n",
    "import seaborn as sns\n",
    "import matplotlib.pyplot as plt"
   ]
  },
  {
   "cell_type": "code",
   "execution_count": 51,
   "metadata": {},
   "outputs": [],
   "source": [
    "zhanqian = pd.read_csv(os.getcwd() + '/data/zhanqian.csv', names=['year', 'month', 'day', 'hour', 'minute', 'exp', 'cong', 'block', 'unknown'])\n",
    "date_cols = ['year','month','day','hour','minute']\n",
    "zhanqian['date'] = pd.to_datetime(zhanqian[date_cols])\n",
    "zhanqian = zhanqian.set_index('date').drop(date_cols, axis=1)\n",
    "for col in zhanqian.columns:\n",
    "    zhanqian[col] = zhanqian[col].str.rstrip('%').astype('float') / 100.0"
   ]
  },
  {
   "cell_type": "code",
   "execution_count": 52,
   "metadata": {},
   "outputs": [
    {
     "data": {
      "text/html": [
       "<div>\n",
       "<style scoped>\n",
       "    .dataframe tbody tr th:only-of-type {\n",
       "        vertical-align: middle;\n",
       "    }\n",
       "\n",
       "    .dataframe tbody tr th {\n",
       "        vertical-align: top;\n",
       "    }\n",
       "\n",
       "    .dataframe thead th {\n",
       "        text-align: right;\n",
       "    }\n",
       "</style>\n",
       "<table border=\"1\" class=\"dataframe\">\n",
       "  <thead>\n",
       "    <tr style=\"text-align: right;\">\n",
       "      <th></th>\n",
       "      <th>exp</th>\n",
       "      <th>cong</th>\n",
       "      <th>block</th>\n",
       "      <th>unknown</th>\n",
       "    </tr>\n",
       "    <tr>\n",
       "      <th>date</th>\n",
       "      <th></th>\n",
       "      <th></th>\n",
       "      <th></th>\n",
       "      <th></th>\n",
       "    </tr>\n",
       "  </thead>\n",
       "  <tbody>\n",
       "    <tr>\n",
       "      <th>2018-01-09 16:40:00</th>\n",
       "      <td>0.6250</td>\n",
       "      <td>0.2500</td>\n",
       "      <td>0.1250</td>\n",
       "      <td>0.0000</td>\n",
       "    </tr>\n",
       "    <tr>\n",
       "      <th>2018-01-09 16:45:00</th>\n",
       "      <td>0.6250</td>\n",
       "      <td>0.3750</td>\n",
       "      <td>0.0000</td>\n",
       "      <td>0.0000</td>\n",
       "    </tr>\n",
       "    <tr>\n",
       "      <th>2018-01-09 16:50:00</th>\n",
       "      <td>0.7500</td>\n",
       "      <td>0.1250</td>\n",
       "      <td>0.1250</td>\n",
       "      <td>0.0000</td>\n",
       "    </tr>\n",
       "    <tr>\n",
       "      <th>2018-01-09 16:55:00</th>\n",
       "      <td>0.5000</td>\n",
       "      <td>0.3750</td>\n",
       "      <td>0.1250</td>\n",
       "      <td>0.0000</td>\n",
       "    </tr>\n",
       "    <tr>\n",
       "      <th>2018-01-09 17:00:00</th>\n",
       "      <td>0.5714</td>\n",
       "      <td>0.1429</td>\n",
       "      <td>0.1429</td>\n",
       "      <td>0.1428</td>\n",
       "    </tr>\n",
       "  </tbody>\n",
       "</table>\n",
       "</div>"
      ],
      "text/plain": [
       "                        exp    cong   block  unknown\n",
       "date                                                \n",
       "2018-01-09 16:40:00  0.6250  0.2500  0.1250   0.0000\n",
       "2018-01-09 16:45:00  0.6250  0.3750  0.0000   0.0000\n",
       "2018-01-09 16:50:00  0.7500  0.1250  0.1250   0.0000\n",
       "2018-01-09 16:55:00  0.5000  0.3750  0.1250   0.0000\n",
       "2018-01-09 17:00:00  0.5714  0.1429  0.1429   0.1428"
      ]
     },
     "execution_count": 52,
     "metadata": {},
     "output_type": "execute_result"
    }
   ],
   "source": [
    "zhanqian.head()"
   ]
  },
  {
   "cell_type": "code",
   "execution_count": 53,
   "metadata": {},
   "outputs": [
    {
     "data": {
      "text/html": [
       "<div>\n",
       "<style scoped>\n",
       "    .dataframe tbody tr th:only-of-type {\n",
       "        vertical-align: middle;\n",
       "    }\n",
       "\n",
       "    .dataframe tbody tr th {\n",
       "        vertical-align: top;\n",
       "    }\n",
       "\n",
       "    .dataframe thead th {\n",
       "        text-align: right;\n",
       "    }\n",
       "</style>\n",
       "<table border=\"1\" class=\"dataframe\">\n",
       "  <thead>\n",
       "    <tr style=\"text-align: right;\">\n",
       "      <th></th>\n",
       "      <th>exp</th>\n",
       "      <th>cong</th>\n",
       "      <th>block</th>\n",
       "      <th>unknown</th>\n",
       "    </tr>\n",
       "    <tr>\n",
       "      <th>date</th>\n",
       "      <th></th>\n",
       "      <th></th>\n",
       "      <th></th>\n",
       "      <th></th>\n",
       "    </tr>\n",
       "  </thead>\n",
       "  <tbody>\n",
       "    <tr>\n",
       "      <th>2018-01-09 16:40:00</th>\n",
       "      <td>0.62500</td>\n",
       "      <td>0.3125</td>\n",
       "      <td>0.06250</td>\n",
       "      <td>0.00000</td>\n",
       "    </tr>\n",
       "    <tr>\n",
       "      <th>2018-01-09 16:50:00</th>\n",
       "      <td>0.62500</td>\n",
       "      <td>0.2500</td>\n",
       "      <td>0.12500</td>\n",
       "      <td>0.00000</td>\n",
       "    </tr>\n",
       "    <tr>\n",
       "      <th>2018-01-09 17:00:00</th>\n",
       "      <td>0.64285</td>\n",
       "      <td>0.1429</td>\n",
       "      <td>0.14290</td>\n",
       "      <td>0.07145</td>\n",
       "    </tr>\n",
       "    <tr>\n",
       "      <th>2018-01-09 17:10:00</th>\n",
       "      <td>0.71430</td>\n",
       "      <td>0.2143</td>\n",
       "      <td>0.00000</td>\n",
       "      <td>0.07140</td>\n",
       "    </tr>\n",
       "    <tr>\n",
       "      <th>2018-01-09 17:20:00</th>\n",
       "      <td>0.47220</td>\n",
       "      <td>0.4097</td>\n",
       "      <td>0.11805</td>\n",
       "      <td>0.00005</td>\n",
       "    </tr>\n",
       "  </tbody>\n",
       "</table>\n",
       "</div>"
      ],
      "text/plain": [
       "                         exp    cong    block  unknown\n",
       "date                                                  \n",
       "2018-01-09 16:40:00  0.62500  0.3125  0.06250  0.00000\n",
       "2018-01-09 16:50:00  0.62500  0.2500  0.12500  0.00000\n",
       "2018-01-09 17:00:00  0.64285  0.1429  0.14290  0.07145\n",
       "2018-01-09 17:10:00  0.71430  0.2143  0.00000  0.07140\n",
       "2018-01-09 17:20:00  0.47220  0.4097  0.11805  0.00005"
      ]
     },
     "execution_count": 53,
     "metadata": {},
     "output_type": "execute_result"
    }
   ],
   "source": [
    "zhanqian = zhanqian.resample('10Min').mean().bfill()\n",
    "zhanqian.head()"
   ]
  },
  {
   "cell_type": "code",
   "execution_count": 66,
   "metadata": {},
   "outputs": [
    {
     "data": {
      "image/png": "[encoded data removed]",
      "text/plain": [
       "<Figure size 432x288 with 1 Axes>"
      ]
     },
     "metadata": {
      "needs_background": "light"
     },
     "output_type": "display_data"
    }
   ],
   "source": [
    "sns.lineplot(data=zhanqian['2018-01-11':'2018-01-12']['exp'])\n",
    "plt.xlim(['2018-01-11', '2018-01-12'])\n",
    "plt.xticks(rotation=20);"
   ]
  },
  {
   "cell_type": "code",
   "execution_count": null,
   "metadata": {},
   "outputs": [],
   "source": []
  }
 ],
 "metadata": {
  "kernelspec": {
   "display_name": "Python 3",
   "language": "python",
   "name": "python3"
  },
  "language_info": {
   "codemirror_mode": {
    "name": "ipython",
    "version": 3
   },
   "file_extension": ".py",
   "mimetype": "text/x-python",
   "name": "python",
   "nbconvert_exporter": "python",
   "pygments_lexer": "ipython3",
   "version": "3.7.0"
  }
 },
 "nbformat": 4,
 "nbformat_minor": 2
}
